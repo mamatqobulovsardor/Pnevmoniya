{
  "metadata": {
    "kernelspec": {
      "language": "python",
      "display_name": "Python 3",
      "name": "python3"
    },
    "language_info": {
      "name": "python",
      "version": "3.10.14",
      "mimetype": "text/x-python",
      "codemirror_mode": {
        "name": "ipython",
        "version": 3
      },
      "pygments_lexer": "ipython3",
      "nbconvert_exporter": "python",
      "file_extension": ".py"
    },
    "kaggle": {
      "accelerator": "nvidiaTeslaT4",
      "dataSources": [
        {
          "sourceId": 36499,
          "databundleVersionId": 3618301,
          "sourceType": "competition"
        }
      ],
      "dockerImageVersionId": 30787,
      "isInternetEnabled": true,
      "language": "python",
      "sourceType": "notebook",
      "isGpuEnabled": true
    },
    "colab": {
      "name": "Pnevmoniya",
      "provenance": [],
      "include_colab_link": true
    }
  },
  "nbformat_minor": 0,
  "nbformat": 4,
  "cells": [
    {
      "cell_type": "markdown",
      "metadata": {
        "id": "view-in-github",
        "colab_type": "text"
      },
      "source": [
        "<a href=\"https://colab.research.google.com/github/mamatqobulovsardor/Pnevmoniya/blob/main/Pnevmoniya.ipynb\" target=\"_parent\"><img src=\"https://colab.research.google.com/assets/colab-badge.svg\" alt=\"Open In Colab\"/></a>"
      ]
    },
    {
      "source": [
        "# IMPORTANT: SOME KAGGLE DATA SOURCES ARE PRIVATE\n",
        "# RUN THIS CELL IN ORDER TO IMPORT YOUR KAGGLE DATA SOURCES.\n",
        "import kagglehub\n",
        "kagglehub.login()\n"
      ],
      "metadata": {
        "id": "K4_-Cb5hQoJB"
      },
      "cell_type": "code",
      "outputs": [],
      "execution_count": null
    },
    {
      "source": [
        "# IMPORTANT: RUN THIS CELL IN ORDER TO IMPORT YOUR KAGGLE DATA SOURCES,\n",
        "# THEN FEEL FREE TO DELETE THIS CELL.\n",
        "# NOTE: THIS NOTEBOOK ENVIRONMENT DIFFERS FROM KAGGLE'S PYTHON\n",
        "# ENVIRONMENT SO THERE MAY BE MISSING LIBRARIES USED BY YOUR\n",
        "# NOTEBOOK.\n",
        "\n",
        "pnevmoniya_path = kagglehub.competition_download('pnevmoniya')\n",
        "\n",
        "print('Data source import complete.')\n"
      ],
      "metadata": {
        "id": "ReX34iTVQoJD"
      },
      "cell_type": "code",
      "outputs": [],
      "execution_count": null
    },
    {
      "cell_type": "code",
      "source": [
        "# This Python 3 environment comes with many helpful analytics libraries installed\n",
        "# It is defined by the kaggle/python Docker image: https://github.com/kaggle/docker-python\n",
        "# For example, here's several helpful packages to load\n",
        "\n",
        "import numpy as np # linear algebra\n",
        "import pandas as pd # data processing, CSV file I/O (e.g. pd.read_csv)\n",
        "\n",
        "# Input data files are available in the read-only \"../input/\" directory\n",
        "# For example, running this (by clicking run or pressing Shift+Enter) will list all files under the input directory\n",
        "\n",
        "import os\n",
        "for dirname, _, filenames in os.walk('/kaggle/input'):\n",
        "    for filename in filenames:\n",
        "        print(os.path.join(dirname, filename))\n",
        "\n",
        "# You can write up to 20GB to the current directory (/kaggle/working/) that gets preserved as output when you create a version using \"Save & Run All\"\n",
        "# You can also write temporary files to /kaggle/temp/, but they won't be saved outside of the current session\n",
        "import torch\n",
        "import fastai\n",
        "\n",
        "from fastai.vision.all import *\n",
        "from ipywidgets import widgets"
      ],
      "metadata": {
        "_uuid": "8f2839f25d086af736a60e9eeb907d3b93b6e0e5",
        "_cell_guid": "b1076dfc-b9ad-4769-8c92-a6c4dae69d19",
        "trusted": true,
        "id": "y_n39zj_QoJE"
      },
      "execution_count": null,
      "outputs": []
    },
    {
      "cell_type": "code",
      "source": [
        "path = Path(\"/kaggle/input/pnevmoniya/train\")"
      ],
      "metadata": {
        "trusted": true,
        "id": "vdpNn8wYQoJE"
      },
      "execution_count": null,
      "outputs": []
    },
    {
      "cell_type": "code",
      "source": [
        "db = DataBlock(\n",
        "    blocks=(ImageBlock,CategoryBlock),\n",
        "    get_items= get_image_files,\n",
        "    splitter = RandomSplitter(valid_pct=0.2,seed=2),\n",
        "    get_y=parent_label,\n",
        "    item_tfms=Resize(224)\n",
        ")\n",
        "\n",
        "learn = vision_learner(db.dataloaders(path),resnet34,metrics=accuracy)\n",
        "learn.fine_tune(2)"
      ],
      "metadata": {
        "trusted": true,
        "id": "YYkNU8K5QoJF"
      },
      "execution_count": null,
      "outputs": []
    },
    {
      "cell_type": "code",
      "source": [
        "sample_data = pd.read_csv(\"/kaggle/input/pnevmoniya/sample_solution.csv\")\n",
        "sample_data"
      ],
      "metadata": {
        "trusted": true,
        "id": "c_iXUiroQoJF"
      },
      "execution_count": null,
      "outputs": []
    },
    {
      "cell_type": "code",
      "source": [
        "%%capture\n",
        "for i in range(624):\n",
        "    label = sample_data.iloc[i,0]\n",
        "    img = PILImage.create(Path(f'../input/pnevmoniya/test/{label}'))\n",
        "    pred, pred_id, prob = learn.predict(img)\n",
        "    sample_data.iloc[i,1] = pred"
      ],
      "metadata": {
        "trusted": true,
        "id": "ToM4Hd0fQoJF"
      },
      "execution_count": null,
      "outputs": []
    },
    {
      "cell_type": "code",
      "source": [
        "sample_data['labels'] = sample_data['labels'].replace({'PNEUMONIA':1,'NORMAL':0},)\n",
        "sample_data.to_csv('pred_deep.csv', index=False)\n"
      ],
      "metadata": {
        "trusted": true,
        "id": "6g06BtaQQoJF"
      },
      "execution_count": null,
      "outputs": []
    },
    {
      "cell_type": "code",
      "source": [
        "sample_data"
      ],
      "metadata": {
        "trusted": true,
        "id": "Fv-we2B8QoJG"
      },
      "execution_count": null,
      "outputs": []
    },
    {
      "cell_type": "code",
      "source": [],
      "metadata": {
        "id": "skhjMB0AQoJG"
      },
      "execution_count": null,
      "outputs": []
    }
  ]
}